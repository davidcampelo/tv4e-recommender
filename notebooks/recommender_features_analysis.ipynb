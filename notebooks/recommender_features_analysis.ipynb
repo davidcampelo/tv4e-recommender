{
 "cells": [
  {
   "cell_type": "code",
   "execution_count": 1,
   "metadata": {},
   "outputs": [
    {
     "data": {
      "text/plain": [
       "<pymysql.connections.Connection at 0x1064469e8>"
      ]
     },
     "execution_count": 1,
     "metadata": {},
     "output_type": "execute_result"
    }
   ],
   "source": [
    "import pymysql.cursors\n",
    "import pandas as pd\n",
    "import matplotlib.pyplot as plt\n",
    "from matplotlib import style\n",
    "import matplotlib.ticker as mticker\n",
    "\n",
    "# Connect to the database\n",
    "connection = pymysql.connect(host='localhost',\n",
    "                             user='root',\n",
    "                             password='root',\n",
    "                             db='tv4e',\n",
    "                             charset='latin1',\n",
    "                             cursorclass=pymysql.cursors.DictCursor)\n",
    "connection"
   ]
  },
  {
   "cell_type": "code",
   "execution_count": 14,
   "metadata": {
    "scrolled": true
   },
   "outputs": [
    {
     "data": {
      "text/html": [
       "<div>\n",
       "<style>\n",
       "    .dataframe thead tr:only-child th {\n",
       "        text-align: right;\n",
       "    }\n",
       "\n",
       "    .dataframe thead th {\n",
       "        text-align: left;\n",
       "    }\n",
       "\n",
       "    .dataframe tbody tr th {\n",
       "        vertical-align: top;\n",
       "    }\n",
       "</style>\n",
       "<table border=\"1\" class=\"dataframe\">\n",
       "  <thead>\n",
       "    <tr style=\"text-align: right;\">\n",
       "      <th></th>\n",
       "      <th>watch_time</th>\n",
       "      <th>date_creation</th>\n",
       "      <th>watched_type</th>\n",
       "      <th>rating_implicit</th>\n",
       "      <th>rating_explicit</th>\n",
       "      <th>overall_rating_value</th>\n",
       "      <th>user_id</th>\n",
       "      <th>video_id</th>\n",
       "    </tr>\n",
       "    <tr>\n",
       "      <th>id</th>\n",
       "      <th></th>\n",
       "      <th></th>\n",
       "      <th></th>\n",
       "      <th></th>\n",
       "      <th></th>\n",
       "      <th></th>\n",
       "      <th></th>\n",
       "      <th></th>\n",
       "    </tr>\n",
       "  </thead>\n",
       "  <tbody>\n",
       "    <tr>\n",
       "      <th>19701</th>\n",
       "      <td>100</td>\n",
       "      <td>2018-01-20 22:07:39</td>\n",
       "      <td>injected</td>\n",
       "      <td>1.0</td>\n",
       "      <td>1.0</td>\n",
       "      <td>1.0</td>\n",
       "      <td>4</td>\n",
       "      <td>5363</td>\n",
       "    </tr>\n",
       "    <tr>\n",
       "      <th>19702</th>\n",
       "      <td>100</td>\n",
       "      <td>2018-01-20 13:44:41</td>\n",
       "      <td>injected</td>\n",
       "      <td>1.0</td>\n",
       "      <td>NaN</td>\n",
       "      <td>0.5</td>\n",
       "      <td>4</td>\n",
       "      <td>5385</td>\n",
       "    </tr>\n",
       "    <tr>\n",
       "      <th>19703</th>\n",
       "      <td>100</td>\n",
       "      <td>2018-01-20 21:37:39</td>\n",
       "      <td>injected</td>\n",
       "      <td>1.0</td>\n",
       "      <td>NaN</td>\n",
       "      <td>0.5</td>\n",
       "      <td>4</td>\n",
       "      <td>5393</td>\n",
       "    </tr>\n",
       "    <tr>\n",
       "      <th>19704</th>\n",
       "      <td>100</td>\n",
       "      <td>2018-01-20 17:44:46</td>\n",
       "      <td>injected</td>\n",
       "      <td>1.0</td>\n",
       "      <td>NaN</td>\n",
       "      <td>0.5</td>\n",
       "      <td>4</td>\n",
       "      <td>5423</td>\n",
       "    </tr>\n",
       "    <tr>\n",
       "      <th>19705</th>\n",
       "      <td>100</td>\n",
       "      <td>2018-01-20 15:14:35</td>\n",
       "      <td>injected</td>\n",
       "      <td>1.0</td>\n",
       "      <td>0.0</td>\n",
       "      <td>0.3</td>\n",
       "      <td>4</td>\n",
       "      <td>5427</td>\n",
       "    </tr>\n",
       "  </tbody>\n",
       "</table>\n",
       "</div>"
      ],
      "text/plain": [
       "       watch_time       date_creation watched_type  rating_implicit  \\\n",
       "id                                                                    \n",
       "19701         100 2018-01-20 22:07:39     injected              1.0   \n",
       "19702         100 2018-01-20 13:44:41     injected              1.0   \n",
       "19703         100 2018-01-20 21:37:39     injected              1.0   \n",
       "19704         100 2018-01-20 17:44:46     injected              1.0   \n",
       "19705         100 2018-01-20 15:14:35     injected              1.0   \n",
       "\n",
       "       rating_explicit  overall_rating_value  user_id  video_id  \n",
       "id                                                               \n",
       "19701              1.0                   1.0        4      5363  \n",
       "19702              NaN                   0.5        4      5385  \n",
       "19703              NaN                   0.5        4      5393  \n",
       "19704              NaN                   0.5        4      5423  \n",
       "19705              0.0                   0.3        4      5427  "
      ]
     },
     "execution_count": 14,
     "metadata": {},
     "output_type": "execute_result"
    }
   ],
   "source": [
    "query = \"SELECT * FROM majordomo_rating\"\n",
    "df_ratings = pd.read_sql(query, connection)\n",
    "\n",
    "df_ratings.set_index('id', inplace=True)\n",
    "df_ratings = df_ratings[df_ratings.watched_type != 'forced']\n",
    "\n",
    "df_ratings.head()"
   ]
  },
  {
   "cell_type": "code",
   "execution_count": 18,
   "metadata": {},
   "outputs": [
    {
     "data": {
      "text/html": [
       "<div>\n",
       "<style>\n",
       "    .dataframe thead tr:only-child th {\n",
       "        text-align: right;\n",
       "    }\n",
       "\n",
       "    .dataframe thead th {\n",
       "        text-align: left;\n",
       "    }\n",
       "\n",
       "    .dataframe tbody tr th {\n",
       "        vertical-align: top;\n",
       "    }\n",
       "</style>\n",
       "<table border=\"1\" class=\"dataframe\">\n",
       "  <thead>\n",
       "    <tr style=\"text-align: right;\">\n",
       "      <th></th>\n",
       "      <th>watch_time</th>\n",
       "      <th>rating_implicit</th>\n",
       "      <th>rating_explicit</th>\n",
       "      <th>overall_rating_value</th>\n",
       "      <th>user_id</th>\n",
       "      <th>video_id</th>\n",
       "    </tr>\n",
       "  </thead>\n",
       "  <tbody>\n",
       "    <tr>\n",
       "      <th>count</th>\n",
       "      <td>388.000000</td>\n",
       "      <td>388.000000</td>\n",
       "      <td>195.000000</td>\n",
       "      <td>388.000000</td>\n",
       "      <td>388.000000</td>\n",
       "      <td>388.000000</td>\n",
       "    </tr>\n",
       "    <tr>\n",
       "      <th>mean</th>\n",
       "      <td>94.432990</td>\n",
       "      <td>0.944330</td>\n",
       "      <td>0.179487</td>\n",
       "      <td>0.425062</td>\n",
       "      <td>22.559278</td>\n",
       "      <td>5668.443299</td>\n",
       "    </tr>\n",
       "    <tr>\n",
       "      <th>std</th>\n",
       "      <td>20.028743</td>\n",
       "      <td>0.200287</td>\n",
       "      <td>0.521289</td>\n",
       "      <td>0.332079</td>\n",
       "      <td>12.820530</td>\n",
       "      <td>237.861433</td>\n",
       "    </tr>\n",
       "    <tr>\n",
       "      <th>min</th>\n",
       "      <td>1.000000</td>\n",
       "      <td>0.010000</td>\n",
       "      <td>-1.000000</td>\n",
       "      <td>-1.000000</td>\n",
       "      <td>4.000000</td>\n",
       "      <td>5362.000000</td>\n",
       "    </tr>\n",
       "    <tr>\n",
       "      <th>25%</th>\n",
       "      <td>100.000000</td>\n",
       "      <td>1.000000</td>\n",
       "      <td>0.000000</td>\n",
       "      <td>0.300000</td>\n",
       "      <td>9.000000</td>\n",
       "      <td>5447.000000</td>\n",
       "    </tr>\n",
       "    <tr>\n",
       "      <th>50%</th>\n",
       "      <td>100.000000</td>\n",
       "      <td>1.000000</td>\n",
       "      <td>0.000000</td>\n",
       "      <td>0.500000</td>\n",
       "      <td>24.000000</td>\n",
       "      <td>5648.500000</td>\n",
       "    </tr>\n",
       "    <tr>\n",
       "      <th>75%</th>\n",
       "      <td>100.000000</td>\n",
       "      <td>1.000000</td>\n",
       "      <td>0.000000</td>\n",
       "      <td>0.500000</td>\n",
       "      <td>36.000000</td>\n",
       "      <td>5831.000000</td>\n",
       "    </tr>\n",
       "    <tr>\n",
       "      <th>max</th>\n",
       "      <td>100.000000</td>\n",
       "      <td>1.000000</td>\n",
       "      <td>1.000000</td>\n",
       "      <td>1.000000</td>\n",
       "      <td>42.000000</td>\n",
       "      <td>6332.000000</td>\n",
       "    </tr>\n",
       "  </tbody>\n",
       "</table>\n",
       "</div>"
      ],
      "text/plain": [
       "       watch_time  rating_implicit  rating_explicit  overall_rating_value  \\\n",
       "count  388.000000       388.000000       195.000000            388.000000   \n",
       "mean    94.432990         0.944330         0.179487              0.425062   \n",
       "std     20.028743         0.200287         0.521289              0.332079   \n",
       "min      1.000000         0.010000        -1.000000             -1.000000   \n",
       "25%    100.000000         1.000000         0.000000              0.300000   \n",
       "50%    100.000000         1.000000         0.000000              0.500000   \n",
       "75%    100.000000         1.000000         0.000000              0.500000   \n",
       "max    100.000000         1.000000         1.000000              1.000000   \n",
       "\n",
       "          user_id     video_id  \n",
       "count  388.000000   388.000000  \n",
       "mean    22.559278  5668.443299  \n",
       "std     12.820530   237.861433  \n",
       "min      4.000000  5362.000000  \n",
       "25%      9.000000  5447.000000  \n",
       "50%     24.000000  5648.500000  \n",
       "75%     36.000000  5831.000000  \n",
       "max     42.000000  6332.000000  "
      ]
     },
     "execution_count": 18,
     "metadata": {},
     "output_type": "execute_result"
    }
   ],
   "source": [
    "df_ratings.describe()"
   ]
  },
  {
   "cell_type": "code",
   "execution_count": 15,
   "metadata": {},
   "outputs": [
    {
     "data": {
      "text/plain": [
       "<matplotlib.figure.Figure at 0x111dc8048>"
      ]
     },
     "metadata": {},
     "output_type": "display_data"
    },
    {
     "data": {
      "image/png": "[encoded data removed]",
      "text/plain": [
       "<matplotlib.figure.Figure at 0x111ec05f8>"
      ]
     },
     "metadata": {},
     "output_type": "display_data"
    },
    {
     "name": "stdout",
     "output_type": "stream",
     "text": [
      "Média de vídeos vistos por utilizador: 22\n"
     ]
    }
   ],
   "source": [
    "# Grouping ratings by user\n",
    "df_ratings_by_user = df_ratings.groupby(['user_id']).size().reset_index(name='counts')\n",
    "id = df_ratings_by_user.user_id.unique().astype(str)\n",
    "\n",
    "plt.clf()\n",
    "fig = plt.figure(figsize=(16,4))\n",
    "\n",
    "plt.title('Classificações por utilizador')\n",
    "plt.bar(range(len(id)), df_ratings_by_user.counts, color='c', width=0.8)\n",
    "plt.ylabel('Quantidade')\n",
    "plt.xlabel('ID')\n",
    "\n",
    "plt.xticks(range(len(id)),id)\n",
    "\n",
    "plt.grid(True)\n",
    "plt.show()\n",
    "\n",
    "number_of_ratings = df_ratings.shape[0]\n",
    "number_of_users = len(id)\n",
    "print(\"Média de vídeos vistos por utilizador: {0:.0f}\".format(number_of_ratings/number_of_users))"
   ]
  },
  {
   "cell_type": "code",
   "execution_count": 16,
   "metadata": {},
   "outputs": [
    {
     "data": {
      "text/plain": [
       "<matplotlib.figure.Figure at 0x106446470>"
      ]
     },
     "metadata": {},
     "output_type": "display_data"
    },
    {
     "data": {
      "image/png": "[encoded data removed]",
      "text/plain": [
       "<matplotlib.figure.Figure at 0x112715f28>"
      ]
     },
     "metadata": {},
     "output_type": "display_data"
    }
   ],
   "source": [
    "# Checking ratings distribution\n",
    "df_ratings_distribution = df_ratings.fillna(-2) # using -2 to represent the scenario where no rating screen was shown\n",
    "df_ratings_distribution = df_ratings_distribution.groupby(['rating_explicit']).size().reset_index(name='counts')\n",
    "\n",
    "\n",
    "plt.clf()\n",
    "fig = plt.figure(figsize=(10,4))\n",
    "plt.title('Uso do ecrã de classificação', fontsize=16)\n",
    "plt.bar(range(len(df_ratings_distribution.rating_explicit)), df_ratings_distribution.counts, color='c', width=0.8)\n",
    "plt.ylabel('Quantidade')\n",
    "\n",
    "\n",
    "labels = ['Ecrã de classificação\\n não exibido',\n",
    "          'Ecrã exibido e \\nvoto negativo recebido', \n",
    "          'Ecrã exibido e \\nvoto não recebido',\n",
    "          'Ecrã exibido e \\nvoto positivo recebido']\n",
    "\n",
    "plt.xticks(range(len(df_ratings_distribution.rating_explicit)), labels)\n",
    "\n",
    "plt.grid(True)\n",
    "plt.show()"
   ]
  },
  {
   "cell_type": "code",
   "execution_count": 17,
   "metadata": {},
   "outputs": [
    {
     "name": "stdout",
     "output_type": "stream",
     "text": [
      "Precisão do algoritmo: 79.66%\n"
     ]
    }
   ],
   "source": [
    "# Checking algoritmh precision\n",
    "\n",
    "df_precision = df_ratings.dropna()\n",
    "df_precision = df_precision[(df_precision['rating_explicit'] == 1) | (df_precision['rating_explicit'] == -1)]\n",
    "\n",
    "positive_votes = df_precision[df_precision['rating_explicit'] == 1].shape[0]\n",
    "all_votes = df_precision.shape[0]\n",
    "\n",
    "precision = positive_votes/all_votes\n",
    "print(\"Precisão do algoritmo: {0:.2f}%\". format(precision*100))"
   ]
  },
  {
   "cell_type": "code",
   "execution_count": 27,
   "metadata": {},
   "outputs": [
    {
     "data": {
      "text/html": [
       "<div>\n",
       "<style>\n",
       "    .dataframe thead tr:only-child th {\n",
       "        text-align: right;\n",
       "    }\n",
       "\n",
       "    .dataframe thead th {\n",
       "        text-align: left;\n",
       "    }\n",
       "\n",
       "    .dataframe tbody tr th {\n",
       "        vertical-align: top;\n",
       "    }\n",
       "</style>\n",
       "<table border=\"1\" class=\"dataframe\">\n",
       "  <thead>\n",
       "    <tr style=\"text-align: right;\">\n",
       "      <th></th>\n",
       "      <th>watch_time</th>\n",
       "      <th>rating_implicit</th>\n",
       "      <th>rating_explicit</th>\n",
       "      <th>overall_rating_value</th>\n",
       "      <th>user_id</th>\n",
       "      <th>video_id</th>\n",
       "    </tr>\n",
       "  </thead>\n",
       "  <tbody>\n",
       "    <tr>\n",
       "      <th>watch_time</th>\n",
       "      <td>1.000000</td>\n",
       "      <td>1.000000</td>\n",
       "      <td>0.094993</td>\n",
       "      <td>0.302441</td>\n",
       "      <td>0.021696</td>\n",
       "      <td>-0.001498</td>\n",
       "    </tr>\n",
       "    <tr>\n",
       "      <th>rating_implicit</th>\n",
       "      <td>1.000000</td>\n",
       "      <td>1.000000</td>\n",
       "      <td>0.094993</td>\n",
       "      <td>0.302441</td>\n",
       "      <td>0.021696</td>\n",
       "      <td>-0.001498</td>\n",
       "    </tr>\n",
       "    <tr>\n",
       "      <th>rating_explicit</th>\n",
       "      <td>0.094993</td>\n",
       "      <td>0.094993</td>\n",
       "      <td>1.000000</td>\n",
       "      <td>0.965575</td>\n",
       "      <td>-0.055715</td>\n",
       "      <td>-0.175439</td>\n",
       "    </tr>\n",
       "    <tr>\n",
       "      <th>overall_rating_value</th>\n",
       "      <td>0.302441</td>\n",
       "      <td>0.302441</td>\n",
       "      <td>0.965575</td>\n",
       "      <td>1.000000</td>\n",
       "      <td>-0.062202</td>\n",
       "      <td>-0.135923</td>\n",
       "    </tr>\n",
       "    <tr>\n",
       "      <th>user_id</th>\n",
       "      <td>0.021696</td>\n",
       "      <td>0.021696</td>\n",
       "      <td>-0.055715</td>\n",
       "      <td>-0.062202</td>\n",
       "      <td>1.000000</td>\n",
       "      <td>0.617635</td>\n",
       "    </tr>\n",
       "    <tr>\n",
       "      <th>video_id</th>\n",
       "      <td>-0.001498</td>\n",
       "      <td>-0.001498</td>\n",
       "      <td>-0.175439</td>\n",
       "      <td>-0.135923</td>\n",
       "      <td>0.617635</td>\n",
       "      <td>1.000000</td>\n",
       "    </tr>\n",
       "  </tbody>\n",
       "</table>\n",
       "</div>"
      ],
      "text/plain": [
       "                      watch_time  rating_implicit  rating_explicit  \\\n",
       "watch_time              1.000000         1.000000         0.094993   \n",
       "rating_implicit         1.000000         1.000000         0.094993   \n",
       "rating_explicit         0.094993         0.094993         1.000000   \n",
       "overall_rating_value    0.302441         0.302441         0.965575   \n",
       "user_id                 0.021696         0.021696        -0.055715   \n",
       "video_id               -0.001498        -0.001498        -0.175439   \n",
       "\n",
       "                      overall_rating_value   user_id  video_id  \n",
       "watch_time                        0.302441  0.021696 -0.001498  \n",
       "rating_implicit                   0.302441  0.021696 -0.001498  \n",
       "rating_explicit                   0.965575 -0.055715 -0.175439  \n",
       "overall_rating_value              1.000000 -0.062202 -0.135923  \n",
       "user_id                          -0.062202  1.000000  0.617635  \n",
       "video_id                         -0.135923  0.617635  1.000000  "
      ]
     },
     "execution_count": 27,
     "metadata": {},
     "output_type": "execute_result"
    }
   ],
   "source": [
    "# Checking features correlations\n",
    "# Use dummies of watched type to check corr between ratings and types\n",
    "df_ratings.corr()"
   ]
  },
  {
   "cell_type": "code",
   "execution_count": null,
   "metadata": {},
   "outputs": [],
   "source": []
  },
  {
   "cell_type": "code",
   "execution_count": null,
   "metadata": {},
   "outputs": [],
   "source": []
  }
 ],
 "metadata": {
  "kernelspec": {
   "display_name": "Python 3",
   "language": "python",
   "name": "python3"
  },
  "language_info": {
   "codemirror_mode": {
    "name": "ipython",
    "version": 3
   },
   "file_extension": ".py",
   "mimetype": "text/x-python",
   "name": "python",
   "nbconvert_exporter": "python",
   "pygments_lexer": "ipython3",
   "version": "3.5.1"
  }
 },
 "nbformat": 4,
 "nbformat_minor": 2
}
