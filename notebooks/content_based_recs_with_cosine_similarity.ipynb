{
 "cells": [
  {
   "cell_type": "markdown",
   "metadata": {},
   "source": [
    "# Content-based recommendations (using cosine similarity)\n",
    "This notebook shows the process used to calculate recommendations for user based on their previous ratings and in features extracted from content texts available in +TV4E platform.\n",
    "\n",
    "Library requirements:\n",
    "* Pandas\n",
    "* NumPy\n",
    "* Scikit-learn \n",
    "* NLTK (w/ portuguese stop words)"
   ]
  },
  {
   "cell_type": "code",
   "execution_count": 1,
   "metadata": {
    "collapsed": true
   },
   "outputs": [],
   "source": [
    "# for Python 2: use print only as a function\n",
    "from __future__ import print_function"
   ]
  },
  {
   "cell_type": "markdown",
   "metadata": {},
   "source": [
    "### Part 1 - Examine the data"
   ]
  },
  {
   "cell_type": "code",
   "execution_count": 2,
   "metadata": {
    "collapsed": true
   },
   "outputs": [],
   "source": [
    "# read CSV using a relative path\n",
    "import pandas as pd\n",
    "path = 'ratings_reduced.csv'\n",
    "df_ratings = pd.read_csv(path)\n",
    "path = 'videos_reduced.csv'\n",
    "df_videos = pd.read_csv(path)"
   ]
  },
  {
   "cell_type": "code",
   "execution_count": 3,
   "metadata": {},
   "outputs": [
    {
     "data": {
      "text/html": [
       "<div>\n",
       "<style>\n",
       "    .dataframe thead tr:only-child th {\n",
       "        text-align: right;\n",
       "    }\n",
       "\n",
       "    .dataframe thead th {\n",
       "        text-align: left;\n",
       "    }\n",
       "\n",
       "    .dataframe tbody tr th {\n",
       "        vertical-align: top;\n",
       "    }\n",
       "</style>\n",
       "<table border=\"1\" class=\"dataframe\">\n",
       "  <thead>\n",
       "    <tr style=\"text-align: right;\">\n",
       "      <th></th>\n",
       "      <th>user_id</th>\n",
       "      <th>content_id</th>\n",
       "      <th>rating</th>\n",
       "      <th>rating_timestamp</th>\n",
       "      <th>rating_type</th>\n",
       "    </tr>\n",
       "  </thead>\n",
       "  <tbody>\n",
       "    <tr>\n",
       "      <th>0</th>\n",
       "      <td>1</td>\n",
       "      <td>11</td>\n",
       "      <td>1.0</td>\n",
       "      <td>2017-08-21 12:29:27+00:00</td>\n",
       "      <td>explicit</td>\n",
       "    </tr>\n",
       "    <tr>\n",
       "      <th>1</th>\n",
       "      <td>1</td>\n",
       "      <td>12</td>\n",
       "      <td>0.5</td>\n",
       "      <td>2017-08-21 12:29:27+00:00</td>\n",
       "      <td>explicit</td>\n",
       "    </tr>\n",
       "    <tr>\n",
       "      <th>2</th>\n",
       "      <td>1</td>\n",
       "      <td>13</td>\n",
       "      <td>-1.0</td>\n",
       "      <td>2017-08-21 12:29:27+00:00</td>\n",
       "      <td>explicit</td>\n",
       "    </tr>\n",
       "    <tr>\n",
       "      <th>3</th>\n",
       "      <td>1</td>\n",
       "      <td>14</td>\n",
       "      <td>1.0</td>\n",
       "      <td>2017-08-21 12:29:27+00:00</td>\n",
       "      <td>explicit</td>\n",
       "    </tr>\n",
       "    <tr>\n",
       "      <th>4</th>\n",
       "      <td>2</td>\n",
       "      <td>11</td>\n",
       "      <td>0.5</td>\n",
       "      <td>2017-08-22 08:21:16+00:00</td>\n",
       "      <td>explicit</td>\n",
       "    </tr>\n",
       "  </tbody>\n",
       "</table>\n",
       "</div>"
      ],
      "text/plain": [
       "   user_id  content_id  rating           rating_timestamp rating_type\n",
       "0        1          11     1.0  2017-08-21 12:29:27+00:00    explicit\n",
       "1        1          12     0.5  2017-08-21 12:29:27+00:00    explicit\n",
       "2        1          13    -1.0  2017-08-21 12:29:27+00:00    explicit\n",
       "3        1          14     1.0  2017-08-21 12:29:27+00:00    explicit\n",
       "4        2          11     0.5  2017-08-22 08:21:16+00:00    explicit"
      ]
     },
     "execution_count": 3,
     "metadata": {},
     "output_type": "execute_result"
    }
   ],
   "source": [
    "# show dataframe first row\n",
    "df_ratings.head()"
   ]
  },
  {
   "cell_type": "code",
   "execution_count": 4,
   "metadata": {},
   "outputs": [
    {
     "data": {
      "text/plain": [
       "(8, 5)"
      ]
     },
     "execution_count": 4,
     "metadata": {},
     "output_type": "execute_result"
    }
   ],
   "source": [
    "#show the shape of dataframe\n",
    "df_ratings.shape"
   ]
  },
  {
   "cell_type": "code",
   "execution_count": 5,
   "metadata": {},
   "outputs": [
    {
     "data": {
      "text/html": [
       "<div>\n",
       "<style>\n",
       "    .dataframe thead tr:only-child th {\n",
       "        text-align: right;\n",
       "    }\n",
       "\n",
       "    .dataframe thead th {\n",
       "        text-align: left;\n",
       "    }\n",
       "\n",
       "    .dataframe tbody tr th {\n",
       "        vertical-align: top;\n",
       "    }\n",
       "</style>\n",
       "<table border=\"1\" class=\"dataframe\">\n",
       "  <thead>\n",
       "    <tr style=\"text-align: right;\">\n",
       "      <th></th>\n",
       "      <th>user_id</th>\n",
       "      <th>content_id</th>\n",
       "      <th>rating</th>\n",
       "    </tr>\n",
       "  </thead>\n",
       "  <tbody>\n",
       "    <tr>\n",
       "      <th>count</th>\n",
       "      <td>8.000000</td>\n",
       "      <td>8.000000</td>\n",
       "      <td>8.000000</td>\n",
       "    </tr>\n",
       "    <tr>\n",
       "      <th>mean</th>\n",
       "      <td>1.500000</td>\n",
       "      <td>12.875000</td>\n",
       "      <td>0.125000</td>\n",
       "    </tr>\n",
       "    <tr>\n",
       "      <th>std</th>\n",
       "      <td>0.534522</td>\n",
       "      <td>1.457738</td>\n",
       "      <td>0.954314</td>\n",
       "    </tr>\n",
       "    <tr>\n",
       "      <th>min</th>\n",
       "      <td>1.000000</td>\n",
       "      <td>11.000000</td>\n",
       "      <td>-1.000000</td>\n",
       "    </tr>\n",
       "    <tr>\n",
       "      <th>25%</th>\n",
       "      <td>1.000000</td>\n",
       "      <td>11.750000</td>\n",
       "      <td>-1.000000</td>\n",
       "    </tr>\n",
       "    <tr>\n",
       "      <th>50%</th>\n",
       "      <td>1.500000</td>\n",
       "      <td>13.000000</td>\n",
       "      <td>0.500000</td>\n",
       "    </tr>\n",
       "    <tr>\n",
       "      <th>75%</th>\n",
       "      <td>2.000000</td>\n",
       "      <td>14.000000</td>\n",
       "      <td>1.000000</td>\n",
       "    </tr>\n",
       "    <tr>\n",
       "      <th>max</th>\n",
       "      <td>2.000000</td>\n",
       "      <td>15.000000</td>\n",
       "      <td>1.000000</td>\n",
       "    </tr>\n",
       "  </tbody>\n",
       "</table>\n",
       "</div>"
      ],
      "text/plain": [
       "        user_id  content_id    rating\n",
       "count  8.000000    8.000000  8.000000\n",
       "mean   1.500000   12.875000  0.125000\n",
       "std    0.534522    1.457738  0.954314\n",
       "min    1.000000   11.000000 -1.000000\n",
       "25%    1.000000   11.750000 -1.000000\n",
       "50%    1.500000   13.000000  0.500000\n",
       "75%    2.000000   14.000000  1.000000\n",
       "max    2.000000   15.000000  1.000000"
      ]
     },
     "execution_count": 5,
     "metadata": {},
     "output_type": "execute_result"
    }
   ],
   "source": [
    "# show overall statistics of the dataframe\n",
    "df_ratings.describe()"
   ]
  },
  {
   "cell_type": "code",
   "execution_count": 6,
   "metadata": {},
   "outputs": [
    {
     "data": {
      "text/html": [
       "<div>\n",
       "<style>\n",
       "    .dataframe thead tr:only-child th {\n",
       "        text-align: right;\n",
       "    }\n",
       "\n",
       "    .dataframe thead th {\n",
       "        text-align: left;\n",
       "    }\n",
       "\n",
       "    .dataframe tbody tr th {\n",
       "        vertical-align: top;\n",
       "    }\n",
       "</style>\n",
       "<table border=\"1\" class=\"dataframe\">\n",
       "  <thead>\n",
       "    <tr style=\"text-align: right;\">\n",
       "      <th></th>\n",
       "      <th>user_id</th>\n",
       "      <th>content_id</th>\n",
       "      <th>rating</th>\n",
       "    </tr>\n",
       "  </thead>\n",
       "  <tbody>\n",
       "    <tr>\n",
       "      <th>count</th>\n",
       "      <td>4.0</td>\n",
       "      <td>4.000000</td>\n",
       "      <td>4.000000</td>\n",
       "    </tr>\n",
       "    <tr>\n",
       "      <th>mean</th>\n",
       "      <td>1.0</td>\n",
       "      <td>12.500000</td>\n",
       "      <td>0.375000</td>\n",
       "    </tr>\n",
       "    <tr>\n",
       "      <th>std</th>\n",
       "      <td>0.0</td>\n",
       "      <td>1.290994</td>\n",
       "      <td>0.946485</td>\n",
       "    </tr>\n",
       "    <tr>\n",
       "      <th>min</th>\n",
       "      <td>1.0</td>\n",
       "      <td>11.000000</td>\n",
       "      <td>-1.000000</td>\n",
       "    </tr>\n",
       "    <tr>\n",
       "      <th>25%</th>\n",
       "      <td>1.0</td>\n",
       "      <td>11.750000</td>\n",
       "      <td>0.125000</td>\n",
       "    </tr>\n",
       "    <tr>\n",
       "      <th>50%</th>\n",
       "      <td>1.0</td>\n",
       "      <td>12.500000</td>\n",
       "      <td>0.750000</td>\n",
       "    </tr>\n",
       "    <tr>\n",
       "      <th>75%</th>\n",
       "      <td>1.0</td>\n",
       "      <td>13.250000</td>\n",
       "      <td>1.000000</td>\n",
       "    </tr>\n",
       "    <tr>\n",
       "      <th>max</th>\n",
       "      <td>1.0</td>\n",
       "      <td>14.000000</td>\n",
       "      <td>1.000000</td>\n",
       "    </tr>\n",
       "  </tbody>\n",
       "</table>\n",
       "</div>"
      ],
      "text/plain": [
       "       user_id  content_id    rating\n",
       "count      4.0    4.000000  4.000000\n",
       "mean       1.0   12.500000  0.375000\n",
       "std        0.0    1.290994  0.946485\n",
       "min        1.0   11.000000 -1.000000\n",
       "25%        1.0   11.750000  0.125000\n",
       "50%        1.0   12.500000  0.750000\n",
       "75%        1.0   13.250000  1.000000\n",
       "max        1.0   14.000000  1.000000"
      ]
     },
     "execution_count": 6,
     "metadata": {},
     "output_type": "execute_result"
    }
   ],
   "source": [
    "# filter ratings from user 1 and show statistics\n",
    "df_ratings_user = df_ratings[(df_ratings.user_id==1)]\n",
    "df_ratings_user.describe()"
   ]
  },
  {
   "cell_type": "markdown",
   "metadata": {},
   "source": [
    "### Part 2 - Clean ratings data"
   ]
  },
  {
   "cell_type": "code",
   "execution_count": 7,
   "metadata": {},
   "outputs": [
    {
     "data": {
      "text/html": [
       "<div>\n",
       "<style>\n",
       "    .dataframe thead tr:only-child th {\n",
       "        text-align: right;\n",
       "    }\n",
       "\n",
       "    .dataframe thead th {\n",
       "        text-align: left;\n",
       "    }\n",
       "\n",
       "    .dataframe tbody tr th {\n",
       "        vertical-align: top;\n",
       "    }\n",
       "</style>\n",
       "<table border=\"1\" class=\"dataframe\">\n",
       "  <thead>\n",
       "    <tr style=\"text-align: right;\">\n",
       "      <th></th>\n",
       "      <th>user_id</th>\n",
       "      <th>content_id</th>\n",
       "      <th>rating</th>\n",
       "    </tr>\n",
       "  </thead>\n",
       "  <tbody>\n",
       "    <tr>\n",
       "      <th>0</th>\n",
       "      <td>1</td>\n",
       "      <td>11</td>\n",
       "      <td>1.0</td>\n",
       "    </tr>\n",
       "    <tr>\n",
       "      <th>1</th>\n",
       "      <td>1</td>\n",
       "      <td>12</td>\n",
       "      <td>0.5</td>\n",
       "    </tr>\n",
       "    <tr>\n",
       "      <th>2</th>\n",
       "      <td>1</td>\n",
       "      <td>13</td>\n",
       "      <td>-1.0</td>\n",
       "    </tr>\n",
       "    <tr>\n",
       "      <th>3</th>\n",
       "      <td>1</td>\n",
       "      <td>14</td>\n",
       "      <td>1.0</td>\n",
       "    </tr>\n",
       "    <tr>\n",
       "      <th>4</th>\n",
       "      <td>2</td>\n",
       "      <td>11</td>\n",
       "      <td>0.5</td>\n",
       "    </tr>\n",
       "    <tr>\n",
       "      <th>5</th>\n",
       "      <td>2</td>\n",
       "      <td>13</td>\n",
       "      <td>-1.0</td>\n",
       "    </tr>\n",
       "    <tr>\n",
       "      <th>6</th>\n",
       "      <td>2</td>\n",
       "      <td>14</td>\n",
       "      <td>-1.0</td>\n",
       "    </tr>\n",
       "    <tr>\n",
       "      <th>7</th>\n",
       "      <td>2</td>\n",
       "      <td>15</td>\n",
       "      <td>1.0</td>\n",
       "    </tr>\n",
       "  </tbody>\n",
       "</table>\n",
       "</div>"
      ],
      "text/plain": [
       "   user_id  content_id  rating\n",
       "0        1          11     1.0\n",
       "1        1          12     0.5\n",
       "2        1          13    -1.0\n",
       "3        1          14     1.0\n",
       "4        2          11     0.5\n",
       "5        2          13    -1.0\n",
       "6        2          14    -1.0\n",
       "7        2          15     1.0"
      ]
     },
     "execution_count": 7,
     "metadata": {},
     "output_type": "execute_result"
    }
   ],
   "source": [
    "# rtemoving unused columns\n",
    "df_ratings.drop('rating_type', axis=1, inplace=True)\n",
    "df_ratings.drop('rating_timestamp', axis=1, inplace=True)\n",
    "df_ratings"
   ]
  },
  {
   "cell_type": "code",
   "execution_count": 8,
   "metadata": {},
   "outputs": [
    {
     "data": {
      "text/html": [
       "<div>\n",
       "<style>\n",
       "    .dataframe thead tr:only-child th {\n",
       "        text-align: right;\n",
       "    }\n",
       "\n",
       "    .dataframe thead th {\n",
       "        text-align: left;\n",
       "    }\n",
       "\n",
       "    .dataframe tbody tr th {\n",
       "        vertical-align: top;\n",
       "    }\n",
       "</style>\n",
       "<table border=\"1\" class=\"dataframe\">\n",
       "  <thead>\n",
       "    <tr>\n",
       "      <th></th>\n",
       "      <th colspan=\"5\" halign=\"left\">rating</th>\n",
       "    </tr>\n",
       "    <tr>\n",
       "      <th>content_id</th>\n",
       "      <th>11</th>\n",
       "      <th>12</th>\n",
       "      <th>13</th>\n",
       "      <th>14</th>\n",
       "      <th>15</th>\n",
       "    </tr>\n",
       "    <tr>\n",
       "      <th>user_id</th>\n",
       "      <th></th>\n",
       "      <th></th>\n",
       "      <th></th>\n",
       "      <th></th>\n",
       "      <th></th>\n",
       "    </tr>\n",
       "  </thead>\n",
       "  <tbody>\n",
       "    <tr>\n",
       "      <th>1</th>\n",
       "      <td>1.0</td>\n",
       "      <td>0.5</td>\n",
       "      <td>-1.0</td>\n",
       "      <td>1.0</td>\n",
       "      <td>NaN</td>\n",
       "    </tr>\n",
       "    <tr>\n",
       "      <th>2</th>\n",
       "      <td>0.5</td>\n",
       "      <td>NaN</td>\n",
       "      <td>-1.0</td>\n",
       "      <td>-1.0</td>\n",
       "      <td>1.0</td>\n",
       "    </tr>\n",
       "  </tbody>\n",
       "</table>\n",
       "</div>"
      ],
      "text/plain": [
       "           rating                    \n",
       "content_id     11   12   13   14   15\n",
       "user_id                              \n",
       "1             1.0  0.5 -1.0  1.0  NaN\n",
       "2             0.5  NaN -1.0 -1.0  1.0"
      ]
     },
     "execution_count": 8,
     "metadata": {},
     "output_type": "execute_result"
    }
   ],
   "source": [
    "ratings_matrix = df_ratings.pivot_table(index=['user_id'], columns=['content_id'], values=['rating'])\n",
    "ratings_matrix                                     "
   ]
  },
  {
   "cell_type": "markdown",
   "metadata": {},
   "source": [
    "### Part 3 - Vectorize texts"
   ]
  },
  {
   "cell_type": "code",
   "execution_count": 9,
   "metadata": {
    "collapsed": true
   },
   "outputs": [],
   "source": [
    "# import and retrieve portuguese stop words\n",
    "# stop words are not considered as token as usually they carry no meaning (!)\n",
    "from nltk.corpus import stopwords\n",
    "portuguese_stop_words = stopwords.words('portuguese')"
   ]
  },
  {
   "cell_type": "code",
   "execution_count": 10,
   "metadata": {
    "collapsed": true
   },
   "outputs": [],
   "source": [
    "# import and instantiate CountVectorizer\n",
    "from sklearn.feature_extraction.text import TfidfVectorizer\n",
    "tfidf = TfidfVectorizer(analyzer='word', ngram_range=(1, 2), min_df=2, max_df=0.5, stop_words=portuguese_stop_words)"
   ]
  },
  {
   "cell_type": "code",
   "execution_count": 11,
   "metadata": {},
   "outputs": [
    {
     "data": {
      "text/plain": [
       "array([[ 0.        ,  0.24360439,  0.24360439,  0.        ,  0.        ,\n",
       "         0.        ,  0.        ,  0.        ,  0.73081318,  0.        ,\n",
       "         0.        ,  0.        ,  0.        ,  0.24360439,  0.        ,\n",
       "         0.        ,  0.        ,  0.        ,  0.        ,  0.        ,\n",
       "         0.        ,  0.        ,  0.        ,  0.        ,  0.        ,\n",
       "         0.24360439,  0.41133514,  0.        ,  0.        ,  0.        ,\n",
       "         0.        ,  0.        ,  0.        ,  0.        ,  0.        ,\n",
       "         0.        ,  0.        ,  0.24360439,  0.        ],\n",
       "       [ 0.33878283,  0.        ,  0.        ,  0.33878283,  0.33878283,\n",
       "         0.        ,  0.33878283,  0.        ,  0.        ,  0.        ,\n",
       "         0.28602374,  0.        ,  0.        ,  0.        ,  0.        ,\n",
       "         0.        ,  0.        ,  0.33878283,  0.        ,  0.        ,\n",
       "         0.        ,  0.        ,  0.33878283,  0.33878283,  0.        ,\n",
       "         0.        ,  0.        ,  0.33878283,  0.        ,  0.        ,\n",
       "         0.        ,  0.        ,  0.        ,  0.        ,  0.        ,\n",
       "         0.        ,  0.        ,  0.        ,  0.        ],\n",
       "       [ 0.        ,  0.        ,  0.        ,  0.22688877,  0.        ,\n",
       "         0.        ,  0.        ,  0.22688877,  0.        ,  0.22688877,\n",
       "         0.19155509,  0.22688877,  0.        ,  0.        ,  0.        ,\n",
       "         0.22688877,  0.22688877,  0.        ,  0.22688877,  0.        ,\n",
       "         0.22688877,  0.22688877,  0.22688877,  0.22688877,  0.        ,\n",
       "         0.        ,  0.        ,  0.22688877,  0.22688877,  0.22688877,\n",
       "         0.22688877,  0.        ,  0.19155509,  0.22688877,  0.        ,\n",
       "         0.        ,  0.22688877,  0.        ,  0.22688877],\n",
       "       [ 0.35355339,  0.        ,  0.        ,  0.        ,  0.        ,\n",
       "         0.        ,  0.        ,  0.        ,  0.        ,  0.        ,\n",
       "         0.        ,  0.35355339,  0.35355339,  0.35355339,  0.        ,\n",
       "         0.        ,  0.        ,  0.        ,  0.        ,  0.35355339,\n",
       "         0.        ,  0.        ,  0.        ,  0.        ,  0.        ,\n",
       "         0.        ,  0.        ,  0.        ,  0.        ,  0.        ,\n",
       "         0.        ,  0.        ,  0.        ,  0.        ,  0.35355339,\n",
       "         0.35355339,  0.        ,  0.        ,  0.35355339],\n",
       "       [ 0.        ,  0.44443738,  0.14814579,  0.        ,  0.        ,\n",
       "         0.14814579,  0.        ,  0.        ,  0.14814579,  0.14814579,\n",
       "         0.        ,  0.        ,  0.14814579,  0.        ,  0.14814579,\n",
       "         0.29629159,  0.14814579,  0.        ,  0.        ,  0.        ,\n",
       "         0.        ,  0.14814579,  0.        ,  0.        ,  0.29629159,\n",
       "         0.14814579,  0.12507486,  0.        ,  0.14814579,  0.        ,\n",
       "         0.        ,  0.29629159,  0.25014972,  0.44443738,  0.        ,\n",
       "         0.14814579,  0.14814579,  0.        ,  0.        ],\n",
       "       [ 0.        ,  0.        ,  0.        ,  0.        ,  0.24155457,\n",
       "         0.24155457,  0.24155457,  0.24155457,  0.        ,  0.        ,\n",
       "         0.20393696,  0.        ,  0.        ,  0.        ,  0.24155457,\n",
       "         0.        ,  0.        ,  0.24155457,  0.24155457,  0.24155457,\n",
       "         0.24155457,  0.        ,  0.        ,  0.        ,  0.24155457,\n",
       "         0.        ,  0.20393696,  0.        ,  0.        ,  0.24155457,\n",
       "         0.24155457,  0.24155457,  0.20393696,  0.        ,  0.24155457,\n",
       "         0.        ,  0.        ,  0.24155457,  0.        ]])"
      ]
     },
     "execution_count": 11,
     "metadata": {},
     "output_type": "execute_result"
    }
   ],
   "source": [
    "# fit (train) the vectorizer with the corpus from video text contents\n",
    "tfidf_matrix = tfidf.fit_transform(df_videos['text_contents'])\n",
    "tfidf_matrix.toarray()"
   ]
  },
  {
   "cell_type": "code",
   "execution_count": 12,
   "metadata": {},
   "outputs": [
    {
     "data": {
      "text/plain": [
       "['30',\n",
       " 'acordo',\n",
       " 'ano',\n",
       " 'aveiro',\n",
       " 'ações',\n",
       " 'breve',\n",
       " 'candidatura',\n",
       " 'central',\n",
       " 'centro',\n",
       " 'criar',\n",
       " 'câmara',\n",
       " 'dar',\n",
       " 'devido',\n",
       " 'dia',\n",
       " 'eficácia',\n",
       " 'estudo',\n",
       " 'estudos',\n",
       " 'freguesia',\n",
       " 'gestão',\n",
       " 'hoje',\n",
       " 'instituto',\n",
       " 'início',\n",
       " 'município',\n",
       " 'município local',\n",
       " 'nacional',\n",
       " 'novas',\n",
       " 'novos',\n",
       " 'onde',\n",
       " 'permite',\n",
       " 'poderão',\n",
       " 'prevista',\n",
       " 'primeira',\n",
       " 'ser',\n",
       " 'tecnologia',\n",
       " 'terreno',\n",
       " 'trabalho',\n",
       " 'universidade',\n",
       " 'visa',\n",
       " 'zona']"
      ]
     },
     "execution_count": 12,
     "metadata": {},
     "output_type": "execute_result"
    }
   ],
   "source": [
    "tfidf.get_feature_names()"
   ]
  },
  {
   "cell_type": "markdown",
   "metadata": {},
   "source": [
    "### Part 4 - Build up user profile"
   ]
  },
  {
   "cell_type": "code",
   "execution_count": 13,
   "metadata": {},
   "outputs": [
    {
     "data": {
      "text/plain": [
       "{11: array([ 0.        ,  0.24360439,  0.24360439,  0.        ,  0.        ,\n",
       "         0.        ,  0.        ,  0.        ,  0.73081318,  0.        ,\n",
       "         0.        ,  0.        ,  0.        ,  0.24360439,  0.        ,\n",
       "         0.        ,  0.        ,  0.        ,  0.        ,  0.        ,\n",
       "         0.        ,  0.        ,  0.        ,  0.        ,  0.        ,\n",
       "         0.24360439,  0.41133514,  0.        ,  0.        ,  0.        ,\n",
       "         0.        ,  0.        ,  0.        ,  0.        ,  0.        ,\n",
       "         0.        ,  0.        ,  0.24360439,  0.        ]),\n",
       " 12: array([ 0.33878283,  0.        ,  0.        ,  0.33878283,  0.33878283,\n",
       "         0.        ,  0.33878283,  0.        ,  0.        ,  0.        ,\n",
       "         0.28602374,  0.        ,  0.        ,  0.        ,  0.        ,\n",
       "         0.        ,  0.        ,  0.33878283,  0.        ,  0.        ,\n",
       "         0.        ,  0.        ,  0.33878283,  0.33878283,  0.        ,\n",
       "         0.        ,  0.        ,  0.33878283,  0.        ,  0.        ,\n",
       "         0.        ,  0.        ,  0.        ,  0.        ,  0.        ,\n",
       "         0.        ,  0.        ,  0.        ,  0.        ]),\n",
       " 13: array([ 0.        ,  0.        ,  0.        ,  0.22688877,  0.        ,\n",
       "         0.        ,  0.        ,  0.22688877,  0.        ,  0.22688877,\n",
       "         0.19155509,  0.22688877,  0.        ,  0.        ,  0.        ,\n",
       "         0.22688877,  0.22688877,  0.        ,  0.22688877,  0.        ,\n",
       "         0.22688877,  0.22688877,  0.22688877,  0.22688877,  0.        ,\n",
       "         0.        ,  0.        ,  0.22688877,  0.22688877,  0.22688877,\n",
       "         0.22688877,  0.        ,  0.19155509,  0.22688877,  0.        ,\n",
       "         0.        ,  0.22688877,  0.        ,  0.22688877]),\n",
       " 14: array([ 0.35355339,  0.        ,  0.        ,  0.        ,  0.        ,\n",
       "         0.        ,  0.        ,  0.        ,  0.        ,  0.        ,\n",
       "         0.        ,  0.35355339,  0.35355339,  0.35355339,  0.        ,\n",
       "         0.        ,  0.        ,  0.        ,  0.        ,  0.35355339,\n",
       "         0.        ,  0.        ,  0.        ,  0.        ,  0.        ,\n",
       "         0.        ,  0.        ,  0.        ,  0.        ,  0.        ,\n",
       "         0.        ,  0.        ,  0.        ,  0.        ,  0.35355339,\n",
       "         0.35355339,  0.        ,  0.        ,  0.35355339]),\n",
       " 15: array([ 0.        ,  0.44443738,  0.14814579,  0.        ,  0.        ,\n",
       "         0.14814579,  0.        ,  0.        ,  0.14814579,  0.14814579,\n",
       "         0.        ,  0.        ,  0.14814579,  0.        ,  0.14814579,\n",
       "         0.29629159,  0.14814579,  0.        ,  0.        ,  0.        ,\n",
       "         0.        ,  0.14814579,  0.        ,  0.        ,  0.29629159,\n",
       "         0.14814579,  0.12507486,  0.        ,  0.14814579,  0.        ,\n",
       "         0.        ,  0.29629159,  0.25014972,  0.44443738,  0.        ,\n",
       "         0.14814579,  0.14814579,  0.        ,  0.        ]),\n",
       " 16: array([ 0.        ,  0.        ,  0.        ,  0.        ,  0.24155457,\n",
       "         0.24155457,  0.24155457,  0.24155457,  0.        ,  0.        ,\n",
       "         0.20393696,  0.        ,  0.        ,  0.        ,  0.24155457,\n",
       "         0.        ,  0.        ,  0.24155457,  0.24155457,  0.24155457,\n",
       "         0.24155457,  0.        ,  0.        ,  0.        ,  0.24155457,\n",
       "         0.        ,  0.20393696,  0.        ,  0.        ,  0.24155457,\n",
       "         0.24155457,  0.24155457,  0.20393696,  0.        ,  0.24155457,\n",
       "         0.        ,  0.        ,  0.24155457,  0.        ])}"
      ]
     },
     "execution_count": 13,
     "metadata": {},
     "output_type": "execute_result"
    }
   ],
   "source": [
    "# create dict content_id ==>> tfidf weights\n",
    "tfidf_tokens = {}\n",
    "tfidf_array = tfidf_matrix.toarray()\n",
    "line_count = 0\n",
    "for idx, row in df_videos.iterrows():\n",
    "    tfidf_tokens[row.id] = tfidf_array[line_count]\n",
    "    line_count += 1\n",
    "tfidf_tokens"
   ]
  },
  {
   "cell_type": "code",
   "execution_count": 14,
   "metadata": {},
   "outputs": [
    {
     "data": {
      "text/html": [
       "<div>\n",
       "<style>\n",
       "    .dataframe thead tr:only-child th {\n",
       "        text-align: right;\n",
       "    }\n",
       "\n",
       "    .dataframe thead th {\n",
       "        text-align: left;\n",
       "    }\n",
       "\n",
       "    .dataframe tbody tr th {\n",
       "        vertical-align: top;\n",
       "    }\n",
       "</style>\n",
       "<table border=\"1\" class=\"dataframe\">\n",
       "  <thead>\n",
       "    <tr style=\"text-align: right;\">\n",
       "      <th></th>\n",
       "      <th>user_id</th>\n",
       "      <th>content_id</th>\n",
       "      <th>rating</th>\n",
       "    </tr>\n",
       "  </thead>\n",
       "  <tbody>\n",
       "    <tr>\n",
       "      <th>0</th>\n",
       "      <td>1</td>\n",
       "      <td>11</td>\n",
       "      <td>1.0</td>\n",
       "    </tr>\n",
       "    <tr>\n",
       "      <th>1</th>\n",
       "      <td>1</td>\n",
       "      <td>12</td>\n",
       "      <td>0.5</td>\n",
       "    </tr>\n",
       "    <tr>\n",
       "      <th>2</th>\n",
       "      <td>1</td>\n",
       "      <td>13</td>\n",
       "      <td>-1.0</td>\n",
       "    </tr>\n",
       "    <tr>\n",
       "      <th>3</th>\n",
       "      <td>1</td>\n",
       "      <td>14</td>\n",
       "      <td>1.0</td>\n",
       "    </tr>\n",
       "  </tbody>\n",
       "</table>\n",
       "</div>"
      ],
      "text/plain": [
       "   user_id  content_id  rating\n",
       "0        1          11     1.0\n",
       "1        1          12     0.5\n",
       "2        1          13    -1.0\n",
       "3        1          14     1.0"
      ]
     },
     "execution_count": 14,
     "metadata": {},
     "output_type": "execute_result"
    }
   ],
   "source": [
    "# define user ratings\n",
    "user_ratings = df_ratings[(df_ratings.user_id==1)]\n",
    "user_ratings"
   ]
  },
  {
   "cell_type": "code",
   "execution_count": 15,
   "metadata": {
    "collapsed": true
   },
   "outputs": [],
   "source": [
    "# created weighted user profile vector (dotproduct of vectors of items consumed and user ratings)\n",
    "#   \"In the original implementation, the profile was the sum of the item-tag vectors of all items \n",
    "#   the user has rated positively (>= 3.5 stars). This approach was later improved with weighted \n",
    "#   user profile (with the older implementation commented out for reference). Weighted profile is \n",
    "#   computed with weighted sum of the item vectors for all items, with weights being based on the \n",
    "#   user's rating.\"\n",
    "#   See: http://eugenelin89.github.io/recommender_content_based/\n",
    "user_profile = [0] * len(tfidf.get_feature_names())\n",
    "for i in range(len(user_profile)):\n",
    "    for idx, row in user_ratings.iterrows():\n",
    "        user_profile[i] += row.rating * tfidf_tokens[row.content_id][i]\n",
    "    #user_profile = [v/len(user_ratings) for v in user_profile] # weight-ing user vector (?)\n",
    "# normalize user profile vector\n",
    "import numpy as np\n",
    "user_profile_norm = user_profile / np.linalg.norm(user_profile)"
   ]
  },
  {
   "cell_type": "markdown",
   "metadata": {},
   "source": [
    "### Part 5 - Calculate similarities between user profile and contents"
   ]
  },
  {
   "cell_type": "code",
   "execution_count": 16,
   "metadata": {},
   "outputs": [
    {
     "data": {
      "text/plain": [
       "[(16, 0.066996955787480938), (15, 0.035996853726467576)]"
      ]
     },
     "execution_count": 16,
     "metadata": {},
     "output_type": "execute_result"
    }
   ],
   "source": [
    "# apply cosine similarity between user profile vector and content vectors\n",
    "# See: http://eugenelin89.github.io/recommender_content_based/\n",
    "from math import sqrt\n",
    "def cosine_similarity(x, y):\n",
    "    def square_rooted(v):\n",
    "        return round(sqrt(sum([a * a for a in v])), 3)\n",
    "   \n",
    "    numerator = sum(a * b for a, b in zip(x, y))\n",
    "    denominator = square_rooted(x) * square_rooted(y)\n",
    "    return numerator/float(denominator)\n",
    "\n",
    "estimated_user_ratings = {}\n",
    "for content_id, token_weights in tfidf_tokens.items(): \n",
    "    if content_id not in user_ratings.content_id.values: # not calculating for contents already consumed \n",
    "        estimated_user_ratings[content_id] = cosine_similarity(user_profile, token_weights)\n",
    "# order ratings\n",
    "import operator\n",
    "estimated_user_ratings = sorted(estimated_user_ratings.items(), key=operator.itemgetter(1))\n",
    "estimated_user_ratings[::-1]"
   ]
  },
  {
   "cell_type": "code",
   "execution_count": 17,
   "metadata": {},
   "outputs": [
    {
     "data": {
      "text/plain": [
       "[(16, 0.19923750192859285), (15, 0.11143069202983215)]"
      ]
     },
     "execution_count": 17,
     "metadata": {},
     "output_type": "execute_result"
    }
   ],
   "source": [
    "# Using the dotproduct of user profile vector, content IDF and content vector\n",
    "# See: https://www.analyticsvidhya.com/blog/2015/08/beginners-guide-learn-content-based-recommender-systems/\n",
    "estimated_user_ratings = {}\n",
    "for content_id, token_weights in tfidf_tokens.items():\n",
    "    if content_id not in user_ratings.content_id.values: # removing contents already consumed \n",
    "        estimated_user_ratings[content_id] = 0\n",
    "        for i in range(len(token_weights)):\n",
    "            if token_weights[i] > 0:\n",
    "                estimated_user_ratings[content_id] += user_profile[i] * tfidf.idf_[i] * token_weights[i]\n",
    "# order ratings\n",
    "import operator\n",
    "estimated_user_ratings = sorted(estimated_user_ratings.items(), key=operator.itemgetter(1))\n",
    "estimated_user_ratings[::-1]"
   ]
  }
 ],
 "metadata": {
  "kernelspec": {
   "display_name": "Python 3",
   "language": "python",
   "name": "python3"
  },
  "language_info": {
   "codemirror_mode": {
    "name": "ipython",
    "version": 3
   },
   "file_extension": ".py",
   "mimetype": "text/x-python",
   "name": "python",
   "nbconvert_exporter": "python",
   "pygments_lexer": "ipython3",
   "version": "3.4.3"
  }
 },
 "nbformat": 4,
 "nbformat_minor": 2
}
